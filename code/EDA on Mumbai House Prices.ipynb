{
 "cells": [
  {
   "cell_type": "code",
   "execution_count": 2,
   "metadata": {},
   "outputs": [],
   "source": [
    "# import libraries\n",
    "import pandas as pd\n",
    "import numpy as np\n",
    "import matplotlib.pyplot as plt\n",
    "import seaborn as sns"
   ]
  },
  {
   "cell_type": "code",
   "execution_count": 5,
   "metadata": {},
   "outputs": [
    {
     "data": {
      "text/plain": [
       "(76038, 9)"
      ]
     },
     "execution_count": 5,
     "metadata": {},
     "output_type": "execute_result"
    }
   ],
   "source": [
    "# reading the dataset\n",
    "df = pd.read_csv(r'..\\data\\Mumbai House Prices.csv')\n",
    "df.shape"
   ]
  },
  {
   "cell_type": "markdown",
   "metadata": {},
   "source": [
    "# Columns Description\n",
    "\n",
    "## bhk\n",
    "- **Description**: Number of bedrooms, hall, and kitchen collectively.\n",
    "- **Data Type**: Integer\n",
    "- **Example Values**: 1, 2, 3, 4\n",
    "\n",
    "## type\n",
    "- **Description**: Type of house.\n",
    "- **Data Type**: String\n",
    "- **Possible Values**:\n",
    "  - apartment\n",
    "  - villa\n",
    "  - independent house\n",
    "  - studio apartment\n",
    "\n",
    "## locality\n",
    "- **Description**: Locality of the house.\n",
    "- **Data Type**: String\n",
    "- **Example Values**: \"Kormangala\", \"Whitefield\", \"Indiranagar\"\n",
    "\n",
    "## area\n",
    "- **Description**: Area of the house in square feet.\n",
    "- **Data Type**: Float\n",
    "- **Unit**: sq ft\n",
    "- **Example Values**: 1000.0, 1500.5, 2000.0\n",
    "\n",
    "## price\n",
    "- **Description**: Price of the house.\n",
    "- **Data Type**: Float\n",
    "- **Example Values**: 50.0, 100.0, 1.5\n",
    "\n",
    "## price_unit\n",
    "- **Description**: Unit of the price.\n",
    "- **Data Type**: String\n",
    "- **Possible Values**:\n",
    "  - L (Lakh)\n",
    "  - Cr (Crore)\n",
    "- **Conversion**:\n",
    "  - 1 Lakh = 100,000 INR\n",
    "  - 1 Crore = 10,000,000 INR\n",
    "\n",
    "## region\n",
    "- **Description**: Region of the house.\n",
    "- **Data Type**: String\n",
    "- **Example Values**: \"North\", \"South\", \"East\", \"West\"\n",
    "\n",
    "## status\n",
    "- **Description**: Status of the house.\n",
    "- **Data Type**: String\n",
    "- **Possible Values**:\n",
    "  - Ready to move\n",
    "  - Under Construction\n",
    "\n",
    "## age\n",
    "- **Description**: Age of the house.\n",
    "- **Data Type**: String\n",
    "- **Possible Values**:\n",
    "  - New\n",
    "  - Resale\n",
    "  - unknown (placeholder for null values)\n"
   ]
  },
  {
   "cell_type": "markdown",
   "metadata": {},
   "source": [
    "# Basic Exploratory Data Analysis"
   ]
  },
  {
   "cell_type": "code",
   "execution_count": 8,
   "metadata": {},
   "outputs": [
    {
     "data": {
      "text/html": [
       "<div>\n",
       "<style scoped>\n",
       "    .dataframe tbody tr th:only-of-type {\n",
       "        vertical-align: middle;\n",
       "    }\n",
       "\n",
       "    .dataframe tbody tr th {\n",
       "        vertical-align: top;\n",
       "    }\n",
       "\n",
       "    .dataframe thead th {\n",
       "        text-align: right;\n",
       "    }\n",
       "</style>\n",
       "<table border=\"1\" class=\"dataframe\">\n",
       "  <thead>\n",
       "    <tr style=\"text-align: right;\">\n",
       "      <th></th>\n",
       "      <th>bhk</th>\n",
       "      <th>area</th>\n",
       "      <th>price</th>\n",
       "    </tr>\n",
       "  </thead>\n",
       "  <tbody>\n",
       "    <tr>\n",
       "      <th>count</th>\n",
       "      <td>76038.000000</td>\n",
       "      <td>76038.000000</td>\n",
       "      <td>76038.00000</td>\n",
       "    </tr>\n",
       "    <tr>\n",
       "      <th>mean</th>\n",
       "      <td>2.015111</td>\n",
       "      <td>1024.536850</td>\n",
       "      <td>29.38227</td>\n",
       "    </tr>\n",
       "    <tr>\n",
       "      <th>std</th>\n",
       "      <td>0.922754</td>\n",
       "      <td>670.276165</td>\n",
       "      <td>32.90345</td>\n",
       "    </tr>\n",
       "    <tr>\n",
       "      <th>min</th>\n",
       "      <td>1.000000</td>\n",
       "      <td>127.000000</td>\n",
       "      <td>1.00000</td>\n",
       "    </tr>\n",
       "    <tr>\n",
       "      <th>25%</th>\n",
       "      <td>1.000000</td>\n",
       "      <td>640.000000</td>\n",
       "      <td>1.75000</td>\n",
       "    </tr>\n",
       "    <tr>\n",
       "      <th>50%</th>\n",
       "      <td>2.000000</td>\n",
       "      <td>872.000000</td>\n",
       "      <td>5.50000</td>\n",
       "    </tr>\n",
       "    <tr>\n",
       "      <th>75%</th>\n",
       "      <td>3.000000</td>\n",
       "      <td>1179.000000</td>\n",
       "      <td>59.00000</td>\n",
       "    </tr>\n",
       "    <tr>\n",
       "      <th>max</th>\n",
       "      <td>10.000000</td>\n",
       "      <td>16000.000000</td>\n",
       "      <td>99.99000</td>\n",
       "    </tr>\n",
       "  </tbody>\n",
       "</table>\n",
       "</div>"
      ],
      "text/plain": [
       "                bhk          area        price\n",
       "count  76038.000000  76038.000000  76038.00000\n",
       "mean       2.015111   1024.536850     29.38227\n",
       "std        0.922754    670.276165     32.90345\n",
       "min        1.000000    127.000000      1.00000\n",
       "25%        1.000000    640.000000      1.75000\n",
       "50%        2.000000    872.000000      5.50000\n",
       "75%        3.000000   1179.000000     59.00000\n",
       "max       10.000000  16000.000000     99.99000"
      ]
     },
     "execution_count": 8,
     "metadata": {},
     "output_type": "execute_result"
    }
   ],
   "source": [
    "# summary statistics\n",
    "df.describe()"
   ]
  },
  {
   "cell_type": "code",
   "execution_count": null,
   "metadata": {},
   "outputs": [
    {
     "name": "stdout",
     "output_type": "stream",
     "text": [
      "<class 'pandas.core.frame.DataFrame'>\n",
      "RangeIndex: 76038 entries, 0 to 76037\n",
      "Data columns (total 9 columns):\n",
      " #   Column      Non-Null Count  Dtype  \n",
      "---  ------      --------------  -----  \n",
      " 0   bhk         76038 non-null  int64  \n",
      " 1   type        76038 non-null  object \n",
      " 2   locality    76038 non-null  object \n",
      " 3   area        76038 non-null  int64  \n",
      " 4   price       76038 non-null  float64\n",
      " 5   price_unit  76038 non-null  object \n",
      " 6   region      76038 non-null  object \n",
      " 7   status      76038 non-null  object \n",
      " 8   age         76038 non-null  object \n",
      "dtypes: float64(1), int64(2), object(6)\n",
      "memory usage: 5.2+ MB\n"
     ]
    }
   ],
   "source": [
    "# dataset information\n",
    "df.info()"
   ]
  },
  {
   "cell_type": "code",
   "execution_count": null,
   "metadata": {},
   "outputs": [],
   "source": []
  }
 ],
 "metadata": {
  "kernelspec": {
   "display_name": "mumbai-property-model",
   "language": "python",
   "name": "python3"
  },
  "language_info": {
   "codemirror_mode": {
    "name": "ipython",
    "version": 3
   },
   "file_extension": ".py",
   "mimetype": "text/x-python",
   "name": "python",
   "nbconvert_exporter": "python",
   "pygments_lexer": "ipython3",
   "version": "3.11.3"
  }
 },
 "nbformat": 4,
 "nbformat_minor": 2
}
